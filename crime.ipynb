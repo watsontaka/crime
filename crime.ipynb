{
 "cells": [
  {
   "cell_type": "markdown",
   "id": "7156d689-4b73-4a49-824e-2edcd8fbf612",
   "metadata": {
    "editable": true,
    "slideshow": {
     "slide_type": ""
    },
    "tags": []
   },
   "source": [
    "# ２０２２年の車上荒らしについて分析してみた。"
   ]
  },
  {
   "cell_type": "code",
   "execution_count": null,
   "id": "f6df9d59-cb95-42b1-8004-e1c15a6f1208",
   "metadata": {},
   "outputs": [],
   "source": [
    "import numpy as np\n",
    "import pandas as pd\n",
    "import matplotlib.pyplot as plt\n",
    "%matplotlib inline\n",
    "plt.rcParams['figure.figsize']=[19.2,10.8]\n",
    "plt.rcParams['font.family']= 'Hiragino Maru Gothic Pro'"
   ]
  },
  {
   "cell_type": "markdown",
   "id": "74000e62-e731-43ed-922f-5170443ead5a",
   "metadata": {},
   "source": [
    "## 1. データクレンジング"
   ]
  },
  {
   "cell_type": "code",
   "execution_count": null,
   "id": "53dfdab4-664c-411c-b77f-91f1441d03f5",
   "metadata": {},
   "outputs": [],
   "source": [
    "#CSV読み込み\n",
    "df1=pd.read_csv(\"tokyo_2022syazyounerai.csv\")\n",
    "df1.head()"
   ]
  },
  {
   "cell_type": "code",
   "execution_count": null,
   "id": "118b999d-76b9-46d8-a131-9c388b610f8b",
   "metadata": {},
   "outputs": [],
   "source": [
    "#カラム削除(市区町村コード,町丁目)\n",
    "df1=df1.drop([\"市区町村コード（発生地）\",\"町丁目（発生地）\"],axis=1)\n",
    "#年月日をdatetime型に変換\n",
    "df1[\"発生年月日（始期）\"]=pd.to_datetime(df1[\"発生年月日（始期）\"])\n",
    "df1.head()"
   ]
  },
  {
   "cell_type": "code",
   "execution_count": null,
   "id": "15c33477-28a5-4695-b4b7-2cce17ad2058",
   "metadata": {},
   "outputs": [],
   "source": [
    "df1.info()"
   ]
  },
  {
   "cell_type": "code",
   "execution_count": null,
   "id": "bb30a59a-ad7c-42cb-a320-1d00d8c874e6",
   "metadata": {},
   "outputs": [],
   "source": [
    "#欠損値確認\n",
    "print(df1.isnull().sum())\n",
    "#欠損値抽出\n",
    "dfnull=df1[df1.isnull().any(axis=1)]\n",
    "display(dfnull)"
   ]
  },
  {
   "cell_type": "code",
   "execution_count": null,
   "id": "33954b8e-f39e-4c81-af39-851547f7f112",
   "metadata": {},
   "outputs": [],
   "source": [
    "#欠損値削除\n",
    "df1=df1.dropna()\n",
    "#発生時「不明」を削除して、int型に変換\n",
    "df1=df1.drop(index=df1[df1[\"発生時（始期）\"]==\"不明\"].index)\n",
    "df1[\"発生時（始期）\"]=df1[\"発生時（始期）\"].astype(int)"
   ]
  },
  {
   "cell_type": "code",
   "execution_count": null,
   "id": "3d7b69b9-0fe6-4bfb-a58d-0e0d41b6077a",
   "metadata": {},
   "outputs": [],
   "source": [
    "#2022年に発生した事件のみ抽出\n",
    "df1[\"発生年\"]=df1[\"発生年月日（始期）\"].dt.strftime(\"%Y\")\n",
    "df1=df1[df1[\"発生年\"]==\"2022\"]\n",
    "df1=df1.drop(columns=\"発生年\")\n",
    "df1[\"発生年月\"]=df1[\"発生年月日（始期）\"].dt.strftime(\"%Y%m\")\n",
    "df1.info()"
   ]
  },
  {
   "cell_type": "markdown",
   "id": "e2d73cfb-6f0e-4d34-8e1d-975a63f62fe8",
   "metadata": {},
   "source": [
    "## 2.統計分析"
   ]
  },
  {
   "cell_type": "code",
   "execution_count": null,
   "id": "2f90e83a-7b90-42fa-a2ff-50afd5ece61e",
   "metadata": {},
   "outputs": [],
   "source": [
    "#東京都内の各市区町村の犯罪発生件数\n",
    "df_bar=df1.groupby(\"市区町村（発生地）\").count()[[\"都道府県（発生地）\"]]\n",
    "df_bar=df_bar.sort_values(\"都道府県（発生地）\",ascending=False)\n",
    "df_bar.head()"
   ]
  },
  {
   "cell_type": "code",
   "execution_count": null,
   "id": "d900b060-5bd2-4bc8-87f5-a681810e18a0",
   "metadata": {},
   "outputs": [],
   "source": [
    "#平均・分散・標準偏差\n",
    "print(\"都内の年間発生件数\")\n",
    "print(\"平均\",df_bar[\"都道府県（発生地）\"].mean())\n",
    "print(\"分散\",df_bar[\"都道府県（発生地）\"].var())\n",
    "print(\"標準偏差\",df_bar[\"都道府県（発生地）\"].std())"
   ]
  },
  {
   "cell_type": "code",
   "execution_count": null,
   "id": "e132b5a2-a2c9-4935-99e6-bcfce1386f9d",
   "metadata": {},
   "outputs": [],
   "source": [
    "#ポアソン分布\n",
    "from scipy.stats import skew,poisson,kurtosis\n",
    "\n",
    "bar_mean=df_bar.mean()\n",
    "x=np.arange(0,60,1)\n",
    "#確率質量関数\n",
    "poi=poisson.pmf(x,bar_mean)\n",
    "#累積関数\n",
    "cdf=poisson.cdf(x,bar_mean)\n",
    "#尖度\n",
    "sk=skew(poi)\n",
    "#歪度\n",
    "kur=kurtosis(poi)"
   ]
  },
  {
   "cell_type": "code",
   "execution_count": null,
   "id": "7e224a61-afad-400f-a072-ea2ee86dc0a0",
   "metadata": {},
   "outputs": [],
   "source": [
    "%matplotlib inline\n",
    "\n",
    "plt.bar(x,poi)\n",
    "plt.plot(x, poi)\n",
    "plt.title(\"ポアソン分布\",fontsize=30)\n",
    "plt.xlabel(\"件数\",fontsize=18)\n",
    "plt.ylabel(\"確率\",fontsize=18)\n",
    "plt.grid()\n",
    "plt.show()\n",
    "\n",
    "print('歪度: {0:.2f}'.format(kur))\n",
    "print('尖度: {0:.2f}'.format(sk))\n",
    "\n",
    "#累積分布関数\n",
    "%matplotlib inline\n",
    "\n",
    "plt.title(\"累積分布\",fontsize=30)\n",
    "plt.step(x,cdf)\n",
    "plt.xlabel(\"件数\",fontsize=18)\n",
    "plt.ylabel(\"累積確率\",fontsize=18)\n",
    "plt.grid()\n",
    "plt.show()"
   ]
  },
  {
   "cell_type": "markdown",
   "id": "f50a88d3-9510-497a-8f83-97e03bad5cf5",
   "metadata": {},
   "source": [
    "## 自治体別統計データ"
   ]
  },
  {
   "cell_type": "code",
   "execution_count": null,
   "id": "fe4715be-c26d-4dff-b6bc-fac05dca433e",
   "metadata": {},
   "outputs": [],
   "source": [
    "#グラフにプロット\n",
    "df_bar.plot.bar()\n",
    "plt.hlines(y=df_bar[\"都道府県（発生地）\"].mean(),xmin=0,xmax=51,color=\"black\")\n",
    "plt.title(\"自治体別発生件数\",fontsize=30)\n",
    "plt.xlabel(\"市区町村\",fontsize=18)\n",
    "plt.ylabel(\"発生件数\",fontsize=18)\n",
    "plt.show()"
   ]
  },
  {
   "cell_type": "code",
   "execution_count": null,
   "id": "4da5e74f-9946-4b10-a11a-fcaf2934ed55",
   "metadata": {},
   "outputs": [],
   "source": [
    "#施錠の有無\n",
    "df1.groupby([\"施錠関係\"]).count()[[\"発生年月日（始期）\"]]"
   ]
  },
  {
   "cell_type": "code",
   "execution_count": null,
   "id": "6decc784-fa1e-4d1d-98ae-ff1660bb5191",
   "metadata": {},
   "outputs": [],
   "source": [
    "lock=df1[df1[\"施錠関係\"]==\"施錠した\"]\n",
    "lock=lock.groupby(\"市区町村（発生地）\").count()[[\"施錠関係\"]]\n",
    "lock=lock.sort_values(\"施錠関係\",ascending=False)\n",
    "\n",
    "lock.plot.bar()\n",
    "plt.title(\"施錠した\",fontsize=30)\n",
    "plt.xlabel(\"市区町村\",fontsize=18)\n",
    "plt.ylabel(\"件数\",fontsize=18)\n",
    "plt.show()\n",
    "\n",
    "no_lock=df1[df1[\"施錠関係\"]==\"施錠せず\"]\n",
    "no_lock=no_lock.groupby(\"市区町村（発生地）\").count()[[\"施錠関係\"]]\n",
    "no_lock=no_lock.sort_values(\"施錠関係\",ascending=False)\n",
    "\n",
    "no_lock.plot.bar()\n",
    "plt.title(\"施錠してない\",fontsize=30)\n",
    "plt.xlabel(\"市区町村\",fontsize=18)\n",
    "plt.ylabel(\"件数\",fontsize=18)\n",
    "plt.show()"
   ]
  },
  {
   "cell_type": "code",
   "execution_count": null,
   "id": "e4c428f2-586f-4c80-8431-cd09425deae0",
   "metadata": {},
   "outputs": [],
   "source": [
    "#現金被害の有無\n",
    "no_money=df1[df1[\"現金被害の有無\"]==\"あり\"]\n",
    "no_money=no_money.groupby(\"市区町村（発生地）\").count()[[\"現金被害の有無\"]]\n",
    "no_money=no_money.sort_values(\"現金被害の有無\",ascending=False)\n",
    "\n",
    "\n",
    "no_money.plot.bar()\n",
    "plt.title(\"現金被害　あり\",fontsize=30)\n",
    "plt.xlabel(\"市区町村\",fontsize=18)\n",
    "plt.ylabel(\"件数\",fontsize=18)\n",
    "plt.show()\n",
    "\n",
    "money=df1[df1[\"現金被害の有無\"]==\"なし\"]\n",
    "money=no_money.groupby(\"市区町村（発生地）\").count()[[\"現金被害の有無\"]]\n",
    "money=no_money.sort_values(\"現金被害の有無\",ascending=False)\n",
    "\n",
    "money.plot.bar()\n",
    "plt.title(\"現金被害なし\",fontsize=30)\n",
    "plt.xlabel(\"市区町村\",fontsize=18)\n",
    "plt.ylabel(\"件数\",fontsize=18)\n",
    "plt.show()"
   ]
  },
  {
   "cell_type": "code",
   "execution_count": null,
   "id": "e2e59b7a-d4a6-40d1-9baf-aeb9ab0b48d2",
   "metadata": {},
   "outputs": [],
   "source": [
    "df1.groupby([\"発生年月\",\"施錠関係\",\"現金被害の有無\"]).count()[[\"市区町村（発生地）\"]]"
   ]
  },
  {
   "cell_type": "code",
   "execution_count": null,
   "id": "24baf357-d639-4ecc-a6d3-982396d7387e",
   "metadata": {},
   "outputs": [],
   "source": [
    "#施錠したかつ現金被害ありのデータ抽出\n",
    "brutal=df1[df1[\"現金被害の有無\"]==\"あり\"]\n",
    "brutal=brutal[brutal[\"施錠関係\"]==\"施錠した\"]\n",
    "brutal=brutal.groupby([\"市区町村（発生地）\"]).count()[[\"発生年月日（始期）\"]]\n",
    "brutal=brutal.sort_values(\"発生年月日（始期）\",ascending=False)\n",
    "display(brutal.head())\n",
    "display(\"合計\",brutal.sum())\n",
    "display(\"平均\",brutal.mean())"
   ]
  },
  {
   "cell_type": "code",
   "execution_count": null,
   "id": "9c6dcb3a-a15f-4363-981d-db7564b02e00",
   "metadata": {},
   "outputs": [],
   "source": [
    "#ポアソン分布\n",
    "from scipy.stats import poisson\n",
    "brutal_mean=brutal.mean()\n",
    "x=np.arange(0,20,1)\n",
    "#確率質量関数\n",
    "b_poi=poisson.pmf(x,brutal_mean)\n",
    "#累積関数\n",
    "cdf=poisson.cdf(x,brutal_mean)\n",
    "\n",
    "plt.bar(x,b_poi)\n",
    "plt.plot(x, b_poi,color=\"red\")\n",
    "plt.title(\"ポアソン分布\",fontsize=30)\n",
    "plt.xlabel(\"件数\",fontsize=18)\n",
    "plt.ylabel(\"確率\",fontsize=18)\n",
    "plt.grid()\n",
    "plt.show()"
   ]
  },
  {
   "cell_type": "code",
   "execution_count": null,
   "id": "447a3b5e-31b1-4d45-a660-61ac4c8f26c9",
   "metadata": {},
   "outputs": [],
   "source": [
    "#月単位で件数を抽出\n",
    "df1[\"発生年月\"] = df1[\"発生年月日（始期）\"].dt.strftime(\"%Y%m\")\n",
    "df_month=df1.groupby([\"発生年月\"]).count()[[\"市区町村（発生地）\"]]\n",
    "df_month.head()"
   ]
  },
  {
   "cell_type": "code",
   "execution_count": null,
   "id": "a4f4a36c-59d1-4ab4-bd02-90d058385d0c",
   "metadata": {},
   "outputs": [],
   "source": [
    "#コレログラム\n",
    "%matplotlib inline\n",
    "\n",
    "plt.xlabel(\"発生年月\",fontsize=18)\n",
    "plt.ylabel(\"発生件数\",fontsize=18)\n",
    "plt.stem(np.sort(df1[\"発生年月\"].unique()),df_month)"
   ]
  },
  {
   "cell_type": "code",
   "execution_count": null,
   "id": "75e07bac-bab8-4325-b1fe-f49865e0981b",
   "metadata": {},
   "outputs": [],
   "source": [
    "#ロジスティック回帰(施錠関係の有無)\n",
    "from sklearn.linear_model import LogisticRegression\n",
    "\n",
    "logistic_x=np.array([df1[\"発生時（始期）\"]]).reshape(-1, 1)\n",
    "logistic_ylock=df1[\"施錠関係\"].map({\"施錠した\":0,\"施錠せず\":1})\n",
    "logistic_regression=LogisticRegression()\n",
    "logistic_lock=logistic_regression.fit(logistic_x,logistic_ylock)"
   ]
  },
  {
   "cell_type": "code",
   "execution_count": null,
   "id": "421b9eb4-a97f-41bc-b618-2f2567c73445",
   "metadata": {},
   "outputs": [],
   "source": [
    "#性能評価\n",
    "from sklearn.metrics import log_loss\n",
    "\n",
    "lock_proba=logistic_lock.predict_proba(logistic_x)\n",
    "score=log_loss(logistic_ylock,lock_proba)\n",
    "print(lock_proba)\n",
    "print(f'logloss:{score:.4f}')"
   ]
  },
  {
   "cell_type": "code",
   "execution_count": null,
   "id": "3fe01a36-d686-4eb0-bc0c-763fdb5feecb",
   "metadata": {},
   "outputs": [],
   "source": [
    "#混同行列\n",
    "import seaborn as sns\n",
    "from sklearn.metrics import confusion_matrix,classification_report\n",
    "\n",
    "lock_pred=logistic_lock.predict(logistic_x)\n",
    "lock_cm=confusion_matrix(logistic_ylock,lock_pred)\n",
    "sns.heatmap(lock_cm,annot=True,cmap='Oranges',fmt='d')\n",
    "print(classification_report(logistic_ylock,lock_pred))"
   ]
  },
  {
   "cell_type": "code",
   "execution_count": null,
   "id": "12ac1c0a-0cc9-4d8b-acbc-3df722c736ff",
   "metadata": {},
   "outputs": [],
   "source": [
    "df1.groupby([\"現金被害の有無\"]).count()[[\"発生年月日（始期）\"]]"
   ]
  },
  {
   "cell_type": "code",
   "execution_count": null,
   "id": "93ccbae6-d7d2-49f2-94b0-349851cdcfe4",
   "metadata": {},
   "outputs": [],
   "source": [
    "#ロジスティック回帰(現金被害のの有無)\n",
    "logistic_ymoney=df1[\"現金被害の有無\"].map({\"あり\":0,\"なし\":1})\n",
    "logistic_money=logistic_regression.fit(logistic_x,logistic_ymoney)"
   ]
  },
  {
   "cell_type": "code",
   "execution_count": null,
   "id": "10757798-beea-4643-88da-d6db8443166b",
   "metadata": {},
   "outputs": [],
   "source": [
    "#性能評価\n",
    "from sklearn.metrics import log_loss\n",
    "\n",
    "money_proba=logistic_money.predict_proba(logistic_x)\n",
    "score=log_loss(logistic_ymoney,money_proba)\n",
    "print(money_proba)\n",
    "print(f'logloss:{score:.4f}')"
   ]
  },
  {
   "cell_type": "code",
   "execution_count": null,
   "id": "22381400-698d-4fb0-a1d3-d7c8022edeee",
   "metadata": {},
   "outputs": [],
   "source": [
    "#混同行列\n",
    "import seaborn as sns\n",
    "from sklearn.metrics import confusion_matrix,classification_report\n",
    "\n",
    "money_pred=logistic_money.predict(logistic_x)\n",
    "money_cm=confusion_matrix(logistic_ymoney,money_pred)\n",
    "sns.heatmap(money_cm,annot=True,cmap='Oranges',fmt='d')\n",
    "print(classification_report(logistic_ymoney,money_pred))"
   ]
  },
  {
   "cell_type": "markdown",
   "id": "8b72ffc3-fd85-4cd7-aa6c-7409703ed0ab",
   "metadata": {},
   "source": [
    "## 3. 人口と犯罪発生件数についての予測モデル"
   ]
  },
  {
   "cell_type": "code",
   "execution_count": null,
   "id": "168cd01a-8be3-4900-93ca-26e356dde635",
   "metadata": {},
   "outputs": [],
   "source": [
    "population=pd.read_csv(\"jy22qv0100.csv\")\n",
    "population.head()"
   ]
  },
  {
   "cell_type": "code",
   "execution_count": null,
   "id": "7281883d-68fd-400f-bb65-73438206e088",
   "metadata": {},
   "outputs": [],
   "source": [
    "population.isnull().sum()\n",
    "population_null=population[population.isnull().any(axis=1)]\n",
    "population_null"
   ]
  },
  {
   "cell_type": "code",
   "execution_count": null,
   "id": "32feac4f-af45-4f18-9970-a0db900bd00e",
   "metadata": {},
   "outputs": [],
   "source": [
    "#欠損値削除\n",
    "population=population.dropna()\n",
    "population=population.drop(population.index[[0,1]])\n",
    "#空白削除\n",
    "population[\"地域\"]=population[\"地域\"].str.strip()\n",
    "population.info()"
   ]
  },
  {
   "cell_type": "code",
   "execution_count": null,
   "id": "3ddba074-12df-4f88-9938-3235fb927e01",
   "metadata": {},
   "outputs": [],
   "source": [
    "population_num=population[[\"地域\",\"令和4年1月1日現在／人口／総数(人)\",]]\n",
    "population_num.head()"
   ]
  },
  {
   "cell_type": "code",
   "execution_count": null,
   "id": "a075ac77-28dd-4c39-8e6e-fd0df11dbf23",
   "metadata": {},
   "outputs": [],
   "source": [
    "#データ統合\n",
    "df_new=df_bar.reset_index()\n",
    "df_new=df_new.rename(columns={'市区町村（発生地）': '地域'})\n",
    "df_pop=pd.merge(df_new,population_num,on='地域',how='left')\n",
    "df_pop.head()"
   ]
  },
  {
   "cell_type": "code",
   "execution_count": null,
   "id": "3917e905-d404-4566-b79e-750b4bac506c",
   "metadata": {},
   "outputs": [],
   "source": [
    "#欠損値確認\n",
    "df_pop.isnull().sum()"
   ]
  },
  {
   "cell_type": "code",
   "execution_count": null,
   "id": "0832d97a-fcf4-4732-a11a-52163ae5e833",
   "metadata": {},
   "outputs": [],
   "source": [
    "#正規化\n",
    "from sklearn.preprocessing import MinMaxScaler\n",
    "\n",
    "mm=MinMaxScaler()\n",
    "df_mm=mm.fit_transform(df_pop[[\"都道府県（発生地）\",\"令和4年1月1日現在／人口／総数(人)\"]])\n",
    "\n",
    "#標準化\n",
    "from sklearn.preprocessing import StandardScaler\n",
    "\n",
    "sc=StandardScaler()\n",
    "df_sc=sc.fit_transform(df_mm)\n",
    "df_sc=pd.DataFrame(df_mm)\n",
    "df_sc.head()"
   ]
  },
  {
   "cell_type": "code",
   "execution_count": null,
   "id": "39a3f413-9fad-410b-a6a9-1d112af7e2b0",
   "metadata": {},
   "outputs": [],
   "source": [
    "#散布図\n",
    "%matplotlib inline\n",
    "plt.scatter(df_sc[1],df_sc[0])\n",
    "plt.xlabel(\"発生件数\",fontsize=18)\n",
    "plt.ylabel(\"人口\",fontsize=18)\n",
    "plt.show()"
   ]
  },
  {
   "cell_type": "code",
   "execution_count": null,
   "id": "18594b50-fb99-4e79-9ab0-ebbc4beb29c2",
   "metadata": {},
   "outputs": [],
   "source": [
    "#線形単回帰\n",
    "from sklearn.linear_model import LinearRegression\n",
    "\n",
    "linear_regression=LinearRegression()\n",
    "x=np.array(df_sc[0]).reshape(-1, 1)\n",
    "y=np.array(df_sc[1]).reshape(-1, 1)\n",
    "linear_reg=linear_regression.fit(x,y)\n",
    "print(\"回帰係数：\",linear_reg.coef_,\"切片：\",linear_reg.intercept_)\n",
    "linear_pred=linear_reg.predict(x)\n",
    "print(\"決定係数：\",linear_regression.score(x, y))"
   ]
  },
  {
   "cell_type": "code",
   "execution_count": null,
   "id": "40c6f14e-56e1-4391-8cfc-3b7eb84191f3",
   "metadata": {},
   "outputs": [],
   "source": [
    "#多項式回帰\n",
    "from sklearn.preprocessing import PolynomialFeatures\n",
    "\n",
    "#バイアス削除\n",
    "quadratic=PolynomialFeatures(degree=2,include_bias=False)\n",
    "x_quad=quadratic.fit_transform(x)\n",
    "poly_reg=linear_regression.fit(x_quad,y)\n",
    "print(\"回帰係数：\",poly_reg.coef_,\"切片：\",poly_reg.intercept_)\n",
    "poly_pred=poly_reg.predict(x_quad)\n",
    "print(\"決定係数：\",linear_regression.score(x_quad, y))"
   ]
  },
  {
   "cell_type": "code",
   "execution_count": null,
   "id": "75842b49-7198-4fe9-9e69-36fb30ef59df",
   "metadata": {},
   "outputs": [],
   "source": [
    "#リッジ回帰\n",
    "from sklearn.linear_model import Ridge\n",
    "\n",
    "ridge_regression=Ridge(alpha=0.1)\n",
    "ridge_reg=ridge_regression.fit(x_quad,y)\n",
    "print(\"回帰係数：\",ridge_reg.coef_,\"切片：\",ridge_reg.intercept_)\n",
    "ridge_pred=ridge_reg.predict(x_quad)\n",
    "print(\"決定係数：\",ridge_regression.score(x_quad, y))"
   ]
  },
  {
   "cell_type": "code",
   "execution_count": null,
   "id": "2bd0fdf7-6794-44ff-a19e-d7457dc65c89",
   "metadata": {},
   "outputs": [],
   "source": [
    "#線形サポートベクター回帰\n",
    "from sklearn.svm import SVR\n",
    "\n",
    "svr=SVR(kernel='linear')\n",
    "svr_reg=svr.fit(x,y.ravel())\n",
    "print(\"回帰係数：\",svr_reg.coef_,\"切片：\",svr_reg.intercept_)\n",
    "svr_pred=svr_reg.predict(x)\n",
    "print(\"決定係数：\",svr.score(x, y))"
   ]
  },
  {
   "cell_type": "code",
   "execution_count": null,
   "id": "25e06903-2945-430b-8feb-db2b6a7e9392",
   "metadata": {},
   "outputs": [],
   "source": [
    "#多項式サポートベクター回帰\n",
    "\n",
    "svr_poly=SVR(kernel='poly')\n",
    "svr_polyreg=svr_poly.fit(x,y.ravel())\n",
    "svr_poly_pred=svr_polyreg.predict(x)\n",
    "print(\"決定係数：\",svr_poly.score(x, y))"
   ]
  },
  {
   "cell_type": "code",
   "execution_count": null,
   "id": "05c5acab-b0c3-4509-8128-8db74513a5ad",
   "metadata": {},
   "outputs": [],
   "source": [
    "#ガウスカーネルサポートベクター回帰\n",
    "\n",
    "svr_rbf=SVR(kernel='rbf')\n",
    "svr_rbfreg=svr_rbf.fit(x,y.ravel())\n",
    "svr_rbf_pred=svr_rbfreg.predict(x)\n",
    "print(\"決定係数：\",svr_rbf.score(x, y))"
   ]
  },
  {
   "cell_type": "code",
   "execution_count": null,
   "id": "c0d1b96e-70e4-4a46-bbe6-cd7054faa709",
   "metadata": {},
   "outputs": [],
   "source": [
    "#決定木回帰\n",
    "from sklearn.tree import DecisionTreeRegressor\n",
    "\n",
    "tree_regression=DecisionTreeRegressor(max_depth=3)\n",
    "tree_reg=tree_regression.fit(x, y)\n",
    "tree_pred=tree_reg.predict(x)\n",
    "print(\"決定係数：\",tree_regression.score(x, y))"
   ]
  },
  {
   "cell_type": "code",
   "execution_count": null,
   "id": "1b9b8416-6e39-4523-9e6c-3f64dd63a2f7",
   "metadata": {},
   "outputs": [],
   "source": [
    "#ランダムフォレスト回帰\n",
    "from sklearn.ensemble import RandomForestRegressor\n",
    "\n",
    "rf_regression=RandomForestRegressor()\n",
    "rf_reg=rf_regression.fit(x,y.ravel())\n",
    "rf_pred=rf_reg.predict(x)\n",
    "print(\"決定係数：\",rf_regression.score(x, y))"
   ]
  },
  {
   "cell_type": "code",
   "execution_count": null,
   "id": "6e1a38f9-a275-47ee-a20f-34f45a9cb719",
   "metadata": {},
   "outputs": [],
   "source": [
    "#ポアソン回帰\n",
    "from sklearn.linear_model import PoissonRegressor\n",
    "\n",
    "poisson_regression=PoissonRegressor()\n",
    "poisson_reg=poisson_regression.fit(x,y.ravel())\n",
    "print(\"回帰係数：\",poisson_reg.coef_,\"切片：\",poisson_reg.intercept_)\n",
    "poisson_pred=poisson_reg.predict(x)"
   ]
  },
  {
   "cell_type": "code",
   "execution_count": null,
   "id": "f925274e-eca7-4569-8c0f-dbd9418b50dd",
   "metadata": {},
   "outputs": [],
   "source": [
    "%matplotlib inline\n",
    "plt.scatter(x,y)\n",
    "plt.xlabel(\"発生件数\",fontsize=18)\n",
    "plt.ylabel(\"人口\",fontsize=18)\n",
    "plt.plot(x,linear_pred,c=\"r\",label=\"線形\")\n",
    "plt.plot(x,poly_pred,c=\"y\",label=\"多項式\")\n",
    "plt.plot(x,ridge_pred,c=\"m\",label=\"リッジ\")\n",
    "plt.plot(x,svr_pred,c=\"g\",label=\"線形サポートベクター\")\n",
    "plt.plot(x,svr_poly_pred,label=\"多項式サポートベクター\")\n",
    "plt.plot(x,svr_rbf_pred,c=\"c\",label=\"ガウスカーネルサポートベクター\")\n",
    "plt.plot(x,tree_pred,label=\"決定木\")\n",
    "plt.plot(x,rf_pred,label=\"ランダムフォレスト\")\n",
    "plt.plot(x,poisson_pred,c=\"b\",label=\"ポアソン\")\n",
    "plt.xlabel(\"人口\",fontsize=18)\n",
    "plt.ylabel(\"発生件数\",fontsize=18)\n",
    "plt.grid()\n",
    "plt.legend()\n",
    "plt.show()"
   ]
  },
  {
   "cell_type": "code",
   "execution_count": null,
   "id": "5e6b47f5-f416-4d0a-b055-fe11f5385ae6",
   "metadata": {},
   "outputs": [],
   "source": [
    "#各モデルの性能評価\n",
    "from sklearn.metrics import mean_squared_error\n",
    "#MSE(平均二乗誤差)\n",
    "print('線形回帰　MSE: % 4f' %mean_squared_error(y,linear_pred))\n",
    "print('多項式回帰　MSE: % 4f' %mean_squared_error(y,poly_pred))\n",
    "#RMSE(平均二乗平方根誤差)\n",
    "print('線形回帰　RMSE: % 4f' %(np.sqrt(mean_squared_error(y,linear_pred))))\n",
    "print('多項式回帰　RMSE: % 4f' %(np.sqrt(mean_squared_error(y,poly_pred))))"
   ]
  },
  {
   "cell_type": "code",
   "execution_count": null,
   "id": "a073f530-2d68-4351-98fd-a331ab8514dd",
   "metadata": {},
   "outputs": [],
   "source": [
    "#残差平方和プロット\n",
    "linear_e=(y-linear_pred)**2\n",
    "poly_e=(y-poly_pred)**2\n",
    "ridge_e=(y-ridge_pred)**2\n",
    "plt.plot(np.sort((linear_e).ravel()),label=\"線形回帰\")\n",
    "plt.plot(np.sort((poly_e).ravel()),label=\"多項式回帰\")\n",
    "plt.plot(np.sort((ridge_e).ravel()),label=\"リッジ回帰\")\n",
    "plt.hlines(y=np.sqrt(mean_squared_error(y,linear_pred)),xmin=0,xmax=51,color=\"blue\")\n",
    "plt.hlines(y=np.sqrt(mean_squared_error(y,poly_pred)),xmin=0,xmax=51,color=\"orange\")\n",
    "plt.hlines(y=np.sqrt(mean_squared_error(y,ridge_pred)),xmin=0,xmax=51,color=\"green\")\n",
    "plt.title(\"残差平方和\",fontsize=32)\n",
    "plt.grid()\n",
    "plt.legend()\n",
    "plt.show()"
   ]
  },
  {
   "cell_type": "code",
   "execution_count": null,
   "id": "ea95469c-5d94-428a-aa4f-7b1c4a69a061",
   "metadata": {},
   "outputs": [],
   "source": [
    "#残差プロット(線形回帰、多項式、リッジ)\n",
    "plt.scatter(linear_pred,y-linear_pred,label=\"線形\")\n",
    "plt.scatter(poly_pred,y-poly_pred,label=\"多項式\")\n",
    "plt.scatter(ridge_pred,y-ridge_pred,label=\"リッジ\")\n",
    "plt.title(\"残差プロット\",fontsize=32)\n",
    "plt.xlabel(\"予測値\",fontsize=18)\n",
    "plt.ylabel(\"残差\",fontsize=18)\n",
    "plt.hlines(y=0,xmin=-0.5,xmax=1.5,color=\"black\")\n",
    "plt.grid()\n",
    "plt.legend()\n",
    "plt.show()"
   ]
  },
  {
   "cell_type": "code",
   "execution_count": null,
   "id": "8b0ea810-473b-4227-b327-122fbffd9365",
   "metadata": {},
   "outputs": [],
   "source": []
  },
  {
   "cell_type": "code",
   "execution_count": null,
   "id": "310317ad-67e7-4211-bf77-310eccd87e49",
   "metadata": {},
   "outputs": [],
   "source": []
  }
 ],
 "metadata": {
  "kernelspec": {
   "display_name": "Python 3 (ipykernel)",
   "language": "python",
   "name": "python3"
  },
  "language_info": {
   "codemirror_mode": {
    "name": "ipython",
    "version": 3
   },
   "file_extension": ".py",
   "mimetype": "text/x-python",
   "name": "python",
   "nbconvert_exporter": "python",
   "pygments_lexer": "ipython3",
   "version": "3.10.13"
  }
 },
 "nbformat": 4,
 "nbformat_minor": 5
}
